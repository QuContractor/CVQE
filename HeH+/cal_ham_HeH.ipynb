{
 "cells": [
  {
   "cell_type": "code",
   "execution_count": 1,
   "metadata": {},
   "outputs": [],
   "source": [
    "from openfermion.hamiltonians import MolecularData\n",
    "from openfermionpyscf import run_pyscf"
   ]
  },
  {
   "cell_type": "code",
   "execution_count": 2,
   "metadata": {},
   "outputs": [],
   "source": [
    "from openfermion.hamiltonians import MolecularData\n",
    "from openfermion.transforms import get_fermion_operator, get_sparse_operator, \\\n",
    "jordan_wigner,bravyi_kitaev\n",
    "from openfermion.utils import get_ground_state\n",
    "import numpy\n",
    "import scipy\n",
    "import scipy.linalg\n"
   ]
  },
  {
   "cell_type": "code",
   "execution_count": 3,
   "metadata": {},
   "outputs": [
    {
     "name": "stderr",
     "output_type": "stream",
     "text": [
      "/home/taoyin/miniconda3/envs/python_3/lib/python3.7/site-packages/pyscf/scf/chkfile.py:31: H5pyDeprecationWarning: The default file mode will change to 'r' (read-only) in h5py 3.0. To suppress this warning, pass the mode you need to h5py.File(), or set the global default h5.get_config().default_file_mode, or set the environment variable H5PY_DEFAULT_READONLY=1. Available modes are: 'r', 'r+', 'w', 'w-'/'x', 'a'. See the docs for details.\n",
      "  with h5py.File(chkfile) as fh5:\n",
      "/home/taoyin/miniconda3/envs/python_3/lib/python3.7/site-packages/pyscf/lib/misc.py:876: H5pyDeprecationWarning: The default file mode will change to 'r' (read-only) in h5py 3.0. To suppress this warning, pass the mode you need to h5py.File(), or set the global default h5.get_config().default_file_mode, or set the environment variable H5PY_DEFAULT_READONLY=1. Available modes are: 'r', 'r+', 'w', 'w-'/'x', 'a'. See the docs for details.\n",
      "  h5py.File.__init__(self, filename, *args, **kwargs)\n"
     ]
    }
   ],
   "source": [
    "element_names = ['He', 'H']\n",
    "basis = 'sto-3g'\n",
    "charge = 1\n",
    "multiplicity = 1\n",
    "\n",
    "# Single point at equilibrium for testing\n",
    "spacings = [0.1*r for r in range(1,51)]\n",
    "qubit_hamiltonians=[]\n",
    "for spacing in spacings:\n",
    "    description = \"{}\".format(spacing)\n",
    "    geometry = [[element_names[0], [0, 0, 0]],\n",
    "                [element_names[1], [0, 0, spacing]]]\n",
    "    molecule = MolecularData(geometry,\n",
    "                             basis,\n",
    "                             multiplicity,\n",
    "                             charge,\n",
    "                             description)\n",
    "\n",
    "    molecule = run_pyscf(molecule)\n",
    "    molecule.save()\n",
    "    \n",
    "    \n",
    "    molecular_hamiltonian = molecule.get_molecular_hamiltonian()\n",
    "    # Map operator to fermions and qubits.\n",
    "    fermion_hamiltonian = get_fermion_operator(molecular_hamiltonian)\n",
    "    qubit_hamiltonian = jordan_wigner(fermion_hamiltonian)\n",
    "    qubit_hamiltonian.compress()\n",
    "    qubit_hamiltonians.append(qubit_hamiltonian)\n",
    "    #print('The Jordan-Wigner Hamiltonian in canonical basis follows:\\n{}'.format(qubit_hamiltonian))\n"
   ]
  },
  {
   "cell_type": "code",
   "execution_count": 4,
   "metadata": {},
   "outputs": [],
   "source": [
    "import pickle\n",
    "with open(\"ham_HeH.txt\",'wb') as fp:\n",
    "    pickle.dump(qubit_hamiltonians,fp)"
   ]
  },
  {
   "cell_type": "code",
   "execution_count": null,
   "metadata": {},
   "outputs": [],
   "source": []
  },
  {
   "cell_type": "code",
   "execution_count": 5,
   "metadata": {},
   "outputs": [
    {
     "data": {
      "text/plain": [
       "6.970931625863935 [] +\n",
       "-0.0262116013321878 [X0 X1 Y2 Y3] +\n",
       "0.0262116013321878 [X0 Y1 Y2 X3] +\n",
       "0.04065264336766859 [X0 Z1 X2] +\n",
       "0.013482520550788368 [X0 Z1 X2 Z3] +\n",
       "0.054135160010097154 [X0 X2] +\n",
       "0.0262116013321878 [Y0 X1 X2 Y3] +\n",
       "-0.0262116013321878 [Y0 Y1 X2 X3] +\n",
       "0.04065264336766859 [Y0 Z1 Y2] +\n",
       "0.013482520550788368 [Y0 Z1 Y2 Z3] +\n",
       "0.054135160010097154 [Y0 Y2] +\n",
       "1.2421210575611366 [Z0] +\n",
       "0.054135160010097154 [Z0 X1 Z2 X3] +\n",
       "0.054135160010097154 [Z0 Y1 Z2 Y3] +\n",
       "0.31537256342617104 [Z0 Z1] +\n",
       "0.14533125088815732 [Z0 Z2] +\n",
       "0.17154285222034513 [Z0 Z3] +\n",
       "0.04065264336766859 [X1 Z2 X3] +\n",
       "0.01348252055078837 [X1 X3] +\n",
       "0.04065264336766859 [Y1 Z2 Y3] +\n",
       "0.01348252055078837 [Y1 Y3] +\n",
       "1.2421210575611366 [Z1] +\n",
       "0.17154285222034513 [Z1 Z2] +\n",
       "0.14533125088815732 [Z1 Z3] +\n",
       "0.023733066443335088 [Z2] +\n",
       "0.13178357488394857 [Z2 Z3] +\n",
       "0.023733066443335088 [Z3]"
      ]
     },
     "execution_count": 5,
     "metadata": {},
     "output_type": "execute_result"
    }
   ],
   "source": [
    "qubit_hamiltonians[0]"
   ]
  },
  {
   "cell_type": "markdown",
   "metadata": {},
   "source": [
    "$c_0I + \\sum_{i=0}^{3}c_iZ_i +\\sum_{i,j=0}^{3} (z_{ij}Z_iZ_j+x_{ij}X_iX_j+y_{ij}Y_iY_j )+\\sum_{i=0}^{1}t_3(X_iZ_{i+1}X_{i+2}+Y_iZ_{i+1}Y_{i+2})+f_0X_0X_1Y_2Y_3+f_1Y_0Y_1X_2X_3+f_2X_0Y_1Y_2X_3+f_3Y_0X_1X_2Y_3+f_4X_0Z_1X_2Z_3+f_5Z_0X_1Z_2X_3+f_6Y_0Z_1Y_2Z_3+f_7Z_0Y_1Z_2Y_3$"
   ]
  },
  {
   "cell_type": "code",
   "execution_count": null,
   "metadata": {},
   "outputs": [],
   "source": []
  }
 ],
 "metadata": {
  "kernelspec": {
   "display_name": "Python [conda env:python_3]",
   "language": "python",
   "name": "conda-env-python_3-py"
  },
  "language_info": {
   "codemirror_mode": {
    "name": "ipython",
    "version": 3
   },
   "file_extension": ".py",
   "mimetype": "text/x-python",
   "name": "python",
   "nbconvert_exporter": "python",
   "pygments_lexer": "ipython3",
   "version": "3.7.4"
  }
 },
 "nbformat": 4,
 "nbformat_minor": 4
}
