{
 "cells": [
  {
   "cell_type": "code",
   "execution_count": 1,
   "metadata": {},
   "outputs": [],
   "source": [
    "import projectq\n",
    "from projectq.ops import All, Measure, QubitOperator, TimeEvolution, X, HGate,Rz\n",
    "from scipy.optimize import minimize\n",
    "import numpy as np\n",
    "import pickle\n",
    "import matplotlib.pyplot as plt\n",
    "from mpl_toolkits.mplot3d import Axes3D\n",
    "from matplotlib import cm"
   ]
  },
  {
   "cell_type": "code",
   "execution_count": 2,
   "metadata": {},
   "outputs": [],
   "source": [
    "import pickle\n",
    "with open(\"ham_HeH.txt\",'rb') as fp:\n",
    "    qubit_hamiltonians=pickle.load(fp)\n",
    "\n",
    "qubit_hamiltonians=qubit_hamiltonians[:20]\n",
    "n_samples=len(qubit_hamiltonians)\n",
    "\n",
    "def ham(qubit_hamiltonians,i):\n",
    "    a_ham=qubit_hamiltonians[i].terms\n",
    "    ham=0*QubitOperator('Z0')\n",
    "    for k,v in a_ham.items():\n",
    "        o_list=[a[1]+str(a[0]) for a in k]\n",
    "        ham+=v*QubitOperator(' '.join(o_list))\n",
    "    return ham"
   ]
  },
  {
   "cell_type": "code",
   "execution_count": 3,
   "metadata": {},
   "outputs": [],
   "source": [
    "def loss_H(theta,ham):\n",
    "    eng = projectq.MainEngine()\n",
    "    wavefunction = eng.allocate_qureg(4)\n",
    "    # Initialize the Hartree Fock state |01>\n",
    "    X | wavefunction[0]\n",
    "    X | wavefunction[1]\n",
    "    # build the operator for ansatz wavefunction\n",
    "    ansatz_op1 = QubitOperator('Y0 Z1 X2')\n",
    "    ansatz_op2 = QubitOperator('Y1 Z2 X3')\n",
    "    ansatz_op3 = QubitOperator('Y0 X1 X2 X3')\n",
    "    # Apply the unitary e^{-i * ansatz_op * t}\n",
    "    TimeEvolution(theta[0], ansatz_op1) | wavefunction\n",
    "    TimeEvolution(theta[1], ansatz_op2) | wavefunction\n",
    "    TimeEvolution(theta[2], ansatz_op3) | wavefunction\n",
    "    # flush all gates\n",
    "    eng.flush()\n",
    "    energy = eng.backend.get_expectation_value(ham, wavefunction) \n",
    "    All(Measure) | wavefunction\n",
    "    return energy\n",
    "\n",
    "# fix the Hamiltonian\n",
    "def landscape_H(thetas,ham):\n",
    "    es=[]\n",
    "    for i in range(thetas.shape[0]):\n",
    "        es.append(loss_H(thetas[i,:],ham))\n",
    "    return np.array(es).tolist()\n",
    "\n",
    "# all Hamiltonians\n",
    "def landscape_Hs(thetas,hams):\n",
    "    es=[]\n",
    "    for i in range(len(hams)):\n",
    "        es.append(landscape_H(thetas,hams[i]))\n",
    "    return np.array(es)"
   ]
  },
  {
   "cell_type": "code",
   "execution_count": 4,
   "metadata": {},
   "outputs": [],
   "source": [
    "ys = np.linspace(-np.pi,np.pi,20)\n",
    "zs = np.linspace(-np.pi,np.pi,20)\n",
    "thetas=np.array([[0,y,z] for y in ys for z in zs])"
   ]
  },
  {
   "cell_type": "code",
   "execution_count": 5,
   "metadata": {},
   "outputs": [
    {
     "data": {
      "text/plain": [
       "(400, 3)"
      ]
     },
     "execution_count": 5,
     "metadata": {},
     "output_type": "execute_result"
    }
   ],
   "source": [
    "thetas.shape"
   ]
  },
  {
   "cell_type": "code",
   "execution_count": 6,
   "metadata": {},
   "outputs": [],
   "source": [
    "hams=[]\n",
    "for i in range(len(qubit_hamiltonians)):\n",
    "    hams.append(ham(qubit_hamiltonians,i))\n",
    "landscapes=landscape_Hs(thetas,hams)"
   ]
  },
  {
   "cell_type": "code",
   "execution_count": 7,
   "metadata": {},
   "outputs": [],
   "source": [
    "landscapes=landscapes.reshape(20,20,20)"
   ]
  },
  {
   "cell_type": "code",
   "execution_count": 8,
   "metadata": {},
   "outputs": [
    {
     "data": {
      "image/png": "[encoded data removed]",
      "text/plain": [
       "<Figure size 432x288 with 2 Axes>"
      ]
     },
     "metadata": {
      "needs_background": "light"
     },
     "output_type": "display_data"
    }
   ],
   "source": [
    "fig=plt.figure()\n",
    "ax = fig.gca()\n",
    "x = np.linspace(-np.pi,np.pi,20)\n",
    "y = np.linspace(-np.pi,np.pi,20)\n",
    "x, y = np.meshgrid(x, y)#生成网格点\n",
    "z=landscapes[7,:,:]\n",
    "# Plot the 3D surface\n",
    "cset=plt.contourf(x,y,z)\n",
    "plt.colorbar(cset)\n",
    "\n",
    "#ax.plot_surface(x, y, z, rcount =100, ccount = 100, cmap =\"jet\", alpha = 0.8)\n",
    "#rcount，ccount为绘制曲面时网格片的行数和列数\n",
    "#help(ax.plot_surface)\n",
    "#ax.set_xlim(-3, 3)\n",
    "#ax.set_ylim(-3, 3)\n",
    "#ax.set_zlim(-2, 2)\n",
    "ax.set_xlabel('X')\n",
    "ax.set_ylabel('Y')\n",
    "#ax.set_zlabel('Z')\n",
    "ax.set_title(\"Landscape\",fontsize =16, color =\"b\")\n",
    "plt.show()"
   ]
  },
  {
   "cell_type": "code",
   "execution_count": 9,
   "metadata": {},
   "outputs": [
    {
     "data": {
      "text/plain": [
       "array([-2.84623125, -2.74978021, -2.50110012, -2.23222119, -2.08078909,\n",
       "       -2.0711393 , -2.07930071, -2.36007949, -2.65175758, -2.82144618,\n",
       "       -2.82144735, -2.63899608, -2.35614783, -2.13234553, -2.07207747,\n",
       "       -2.04660025, -2.2056558 , -2.51435271, -2.75740414, -2.84623125])"
      ]
     },
     "execution_count": 9,
     "metadata": {},
     "output_type": "execute_result"
    }
   ],
   "source": [
    "z.min(axis=1)"
   ]
  },
  {
   "cell_type": "code",
   "execution_count": 10,
   "metadata": {},
   "outputs": [
    {
     "data": {
      "image/png": "[encoded data removed]",
      "text/plain": [
       "<Figure size 432x288 with 2 Axes>"
      ]
     },
     "metadata": {
      "needs_background": "light"
     },
     "output_type": "display_data"
    }
   ],
   "source": [
    "fig=plt.figure()\n",
    "ax = fig.gca()\n",
    "x = np.linspace(-np.pi,np.pi,20)\n",
    "y = np.linspace(-np.pi,np.pi,20)\n",
    "x, y = np.meshgrid(x, y)#生成网格点\n",
    "z=landscapes[2,:,:]\n",
    "# Plot the 3D surface\n",
    "cset=plt.contourf(x,y,z)\n",
    "plt.colorbar(cset)\n",
    "#ax.plot_surface(x, y, z, rcount =100, ccount = 100, cmap =\"jet\", alpha = 0.8)\n",
    "#rcount，ccount为绘制曲面时网格片的行数和列数\n",
    "#help(ax.plot_surface)\n",
    "#ax.set_xlim(-3, 3)\n",
    "#ax.set_ylim(-3, 3)\n",
    "#ax.set_zlim(-2, 2)\n",
    "ax.set_xlabel('X')\n",
    "ax.set_ylabel('Y')\n",
    "#ax.set_zlabel('Z')\n",
    "ax.set_title(\"Landscape\",fontsize =16, color =\"b\")\n",
    "plt.show()"
   ]
  },
  {
   "cell_type": "code",
   "execution_count": null,
   "metadata": {},
   "outputs": [],
   "source": []
  }
 ],
 "metadata": {
  "kernelspec": {
   "display_name": "Python [conda env:python_3]",
   "language": "python",
   "name": "conda-env-python_3-py"
  },
  "language_info": {
   "codemirror_mode": {
    "name": "ipython",
    "version": 3
   },
   "file_extension": ".py",
   "mimetype": "text/x-python",
   "name": "python",
   "nbconvert_exporter": "python",
   "pygments_lexer": "ipython3",
   "version": "3.7.4"
  }
 },
 "nbformat": 4,
 "nbformat_minor": 4
}
