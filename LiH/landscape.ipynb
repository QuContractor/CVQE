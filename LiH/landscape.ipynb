{
 "cells": [
  {
   "cell_type": "code",
   "execution_count": 1,
   "metadata": {},
   "outputs": [],
   "source": [
    "import projectq\n",
    "from projectq.ops import All, Measure, QubitOperator, TimeEvolution, X, HGate,Rz\n",
    "from scipy.optimize import minimize\n",
    "import numpy as np\n",
    "import pickle\n",
    "import matplotlib.pyplot as plt\n",
    "from mpl_toolkits.mplot3d import Axes3D\n",
    "from matplotlib import cm"
   ]
  },
  {
   "cell_type": "code",
   "execution_count": null,
   "metadata": {},
   "outputs": [],
   "source": []
  },
  {
   "cell_type": "code",
   "execution_count": 2,
   "metadata": {},
   "outputs": [],
   "source": [
    "coeff_hams= np.loadtxt(\"coeff_hams_more.txt\")[:20,:]\n",
    "bond_distances=np.loadtxt(\"spacings_more.txt\")[:20]\n",
    "n_samples,n_features=coeff_hams.shape[0],coeff_hams.shape[1]\n",
    "\n",
    "operator_list=[(),\"Z0\",\"Z1\",\"Z2\", \"Y0 Y1\", \"X0 X1\",\"Y0 Y2\", \"X0 X2\", \"Z0 Z1\",\"Z0 Z2\", \"Y1 Y2\", \"X1 X2\", \"Z1 Z2\",\"X0\"]\n",
    "\n",
    "def ham(coeff_hams,i,bond_distances=bond_distances,dipole=0):\n",
    "    hamiltonian=coeff_hams[i,0]*QubitOperator(operator_list[0])\n",
    "    for j in range(1,n_features):\n",
    "        hamiltonian+=coeff_hams[i,j]*QubitOperator(operator_list[j])\n",
    "    hamiltonian+=dipole*bond_distances[i]*QubitOperator(operator_list[-1])\n",
    "    return hamiltonian"
   ]
  },
  {
   "cell_type": "code",
   "execution_count": 3,
   "metadata": {},
   "outputs": [],
   "source": [
    "hams=[ham(coeff_hams,i) for i in range(n_samples)]"
   ]
  },
  {
   "cell_type": "code",
   "execution_count": null,
   "metadata": {},
   "outputs": [],
   "source": []
  },
  {
   "cell_type": "code",
   "execution_count": 4,
   "metadata": {},
   "outputs": [
    {
     "data": {
      "text/plain": [
       "array([0.3       , 0.39591837, 0.49183673, 0.5877551 , 0.68367347,\n",
       "       0.77959184, 0.8755102 , 0.97142857, 1.06734694, 1.16326531,\n",
       "       1.25918367, 1.35510204, 1.45102041, 1.54693878, 1.64285714,\n",
       "       1.73877551, 1.83469388, 1.93061224, 2.02653061, 2.12244898])"
      ]
     },
     "execution_count": 4,
     "metadata": {},
     "output_type": "execute_result"
    }
   ],
   "source": [
    "bond_distances"
   ]
  },
  {
   "cell_type": "code",
   "execution_count": 5,
   "metadata": {},
   "outputs": [],
   "source": [
    "def loss_H(theta,ham):\n",
    "    # Create a ProjectQ compiler with a simulator as a backend\n",
    "\n",
    "    eng = projectq.MainEngine()\n",
    "    # Allocate 2 qubits in state |00>\n",
    "    wf= eng.allocate_qureg(3)\n",
    "    # Initialize the Hartree Fock state |01>\n",
    "    X | wf[0]\n",
    "    X | wf[1]\n",
    "    X | wf[2]\n",
    "    # build the operator for ansatz wavefunction\n",
    "    ansatz_op1 = QubitOperator('X0 Y1')\n",
    "    ansatz_op2 = QubitOperator('X0 Y2')\n",
    "    #ansatz_op3 = QubitOperator('X0 Z1')\n",
    "    # Apply the unitary e^{-i * ansatz_op * t}\n",
    "    TimeEvolution(theta[0], ansatz_op1) | wf \n",
    "    TimeEvolution(theta[1], ansatz_op2) | wf\n",
    "    #TimeEvolution(theta[1], ansatz_op3) | wf\n",
    "    # flush all gates\n",
    "    eng.flush()\n",
    "    energy = eng.backend.get_expectation_value(ham, wf)\n",
    "    All(Measure) | wf\n",
    "    return energy\n",
    "\n",
    "# fix the Hamiltonian\n",
    "def landscape_H(thetas,ham):\n",
    "    es=[]\n",
    "    for i in range(thetas.shape[0]):\n",
    "        es.append(loss_H(thetas[i,:],ham))\n",
    "    return np.array(es).tolist()\n",
    "\n",
    "# all Hamiltonians\n",
    "def landscape_Hs(thetas,hams):\n",
    "    es=[]\n",
    "    for i in range(len(hams)):\n",
    "        es.append(landscape_H(thetas,hams[i]))\n",
    "    return np.array(es)"
   ]
  },
  {
   "cell_type": "code",
   "execution_count": 6,
   "metadata": {},
   "outputs": [],
   "source": [
    "xs = np.linspace(-np.pi,np.pi,30)\n",
    "ys = np.linspace(-np.pi,np.pi,30)\n",
    "#xs = np.linspace(np.pi/2-0.5,np.pi/2+0.5,10)\n",
    "#ys = np.linspace(np.pi/2-0.5,np.pi/2+0.5,10)\n",
    "thetas=np.array([[x,y] for x in xs for y in ys])"
   ]
  },
  {
   "cell_type": "code",
   "execution_count": 7,
   "metadata": {},
   "outputs": [],
   "source": [
    "landscapes=landscape_Hs(thetas,hams[12:13])\n",
    "landscapes=landscapes.reshape(1,30,30)"
   ]
  },
  {
   "cell_type": "code",
   "execution_count": null,
   "metadata": {},
   "outputs": [],
   "source": []
  },
  {
   "cell_type": "code",
   "execution_count": 8,
   "metadata": {},
   "outputs": [
    {
     "data": {
      "image/png": "[encoded data removed]",
      "text/plain": [
       "<Figure size 432x288 with 2 Axes>"
      ]
     },
     "metadata": {
      "needs_background": "light"
     },
     "output_type": "display_data"
    }
   ],
   "source": [
    "fig=plt.figure()\n",
    "ax = fig.gca()\n",
    "x = np.linspace(-np.pi,np.pi,30)\n",
    "y = np.linspace(-np.pi,np.pi,30)\n",
    "#x= np.linspace(np.pi/2-1,np.pi/2+1,10)\n",
    "#y = np.linspace(np.pi/2-1,np.pi/2+1,10)\n",
    "x, y = np.meshgrid(x, y)#生成网格点\n",
    "z=landscapes[0,:,:]\n",
    "# Plot the 3D surface\n",
    "cset=plt.contourf(x,y,z)\n",
    "plt.colorbar(cset)\n",
    "\n",
    "#ax.plot_surface(x, y, z, rcount =100, ccount = 100, cmap =\"jet\", alpha = 0.8)\n",
    "#rcount，ccount为绘制曲面时网格片的行数和列数\n",
    "#help(ax.plot_surface)\n",
    "#ax.set_xlim(-3, 3)\n",
    "#ax.set_ylim(-3, 3)\n",
    "#ax.set_zlim(-2, 2)\n",
    "ax.set_xlabel('X')\n",
    "ax.set_ylabel('Y')\n",
    "#ax.set_zlabel('Z')\n",
    "ax.set_title(\"Landscape\",fontsize =16, color =\"b\")\n",
    "plt.show()"
   ]
  },
  {
   "cell_type": "code",
   "execution_count": null,
   "metadata": {},
   "outputs": [],
   "source": []
  }
 ],
 "metadata": {
  "kernelspec": {
   "display_name": "Python [conda env:python_3]",
   "language": "python",
   "name": "conda-env-python_3-py"
  },
  "language_info": {
   "codemirror_mode": {
    "name": "ipython",
    "version": 3
   },
   "file_extension": ".py",
   "mimetype": "text/x-python",
   "name": "python",
   "nbconvert_exporter": "python",
   "pygments_lexer": "ipython3",
   "version": "3.7.4"
  }
 },
 "nbformat": 4,
 "nbformat_minor": 4
}
